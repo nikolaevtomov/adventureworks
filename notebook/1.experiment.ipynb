{
 "cells": [
  {
   "cell_type": "markdown",
   "metadata": {},
   "source": [
    "## Experiment Advertureworks database"
   ]
  },
  {
   "cell_type": "code",
   "execution_count": 1,
   "metadata": {},
   "outputs": [
    {
     "name": "stdout",
     "output_type": "stream",
     "text": [
      "Connecting with connection string : postgresql://postgres:letmein@db:5432/Adventureworks\n",
      " * postgresql://postgres:***@db:5432/Adventureworks\n",
      "1 rows affected.\n",
      " * postgresql://postgres:***@db:5432/Adventureworks\n",
      "1 rows affected.\n",
      " * postgresql://postgres:***@db:5432/Adventureworks\n",
      "68 rows affected.\n"
     ]
    }
   ],
   "source": [
    "%run connection.ipynb"
   ]
  },
  {
   "cell_type": "code",
   "execution_count": 2,
   "metadata": {},
   "outputs": [
    {
     "name": "stdout",
     "output_type": "stream",
     "text": [
      " * postgresql://postgres:***@db:5432/Adventureworks\n",
      "19119 rows affected.\n"
     ]
    },
    {
     "data": {
      "text/html": [
       "<div>\n",
       "<style scoped>\n",
       "    .dataframe tbody tr th:only-of-type {\n",
       "        vertical-align: middle;\n",
       "    }\n",
       "\n",
       "    .dataframe tbody tr th {\n",
       "        vertical-align: top;\n",
       "    }\n",
       "\n",
       "    .dataframe thead th {\n",
       "        text-align: right;\n",
       "    }\n",
       "</style>\n",
       "<table border=\"1\" class=\"dataframe\">\n",
       "  <thead>\n",
       "    <tr style=\"text-align: right;\">\n",
       "      <th></th>\n",
       "      <th>customerid</th>\n",
       "      <th>salesorderid</th>\n",
       "      <th>orderdate</th>\n",
       "    </tr>\n",
       "  </thead>\n",
       "  <tbody>\n",
       "    <tr>\n",
       "      <th>0</th>\n",
       "      <td>11000</td>\n",
       "      <td>43793</td>\n",
       "      <td>2011-06-21</td>\n",
       "    </tr>\n",
       "    <tr>\n",
       "      <th>1</th>\n",
       "      <td>11001</td>\n",
       "      <td>43767</td>\n",
       "      <td>2011-06-17</td>\n",
       "    </tr>\n",
       "    <tr>\n",
       "      <th>2</th>\n",
       "      <td>11002</td>\n",
       "      <td>43736</td>\n",
       "      <td>2011-06-09</td>\n",
       "    </tr>\n",
       "    <tr>\n",
       "      <th>3</th>\n",
       "      <td>11003</td>\n",
       "      <td>43701</td>\n",
       "      <td>2011-05-31</td>\n",
       "    </tr>\n",
       "    <tr>\n",
       "      <th>4</th>\n",
       "      <td>11004</td>\n",
       "      <td>43810</td>\n",
       "      <td>2011-06-25</td>\n",
       "    </tr>\n",
       "    <tr>\n",
       "      <th>...</th>\n",
       "      <td>...</td>\n",
       "      <td>...</td>\n",
       "      <td>...</td>\n",
       "    </tr>\n",
       "    <tr>\n",
       "      <th>19114</th>\n",
       "      <td>30114</td>\n",
       "      <td>46623</td>\n",
       "      <td>2012-05-30</td>\n",
       "    </tr>\n",
       "    <tr>\n",
       "      <th>19115</th>\n",
       "      <td>30115</td>\n",
       "      <td>46935</td>\n",
       "      <td>2012-06-30</td>\n",
       "    </tr>\n",
       "    <tr>\n",
       "      <th>19116</th>\n",
       "      <td>30116</td>\n",
       "      <td>51106</td>\n",
       "      <td>2013-05-30</td>\n",
       "    </tr>\n",
       "    <tr>\n",
       "      <th>19117</th>\n",
       "      <td>30117</td>\n",
       "      <td>43865</td>\n",
       "      <td>2011-07-01</td>\n",
       "    </tr>\n",
       "    <tr>\n",
       "      <th>19118</th>\n",
       "      <td>30118</td>\n",
       "      <td>47378</td>\n",
       "      <td>2012-07-31</td>\n",
       "    </tr>\n",
       "  </tbody>\n",
       "</table>\n",
       "<p>19119 rows × 3 columns</p>\n",
       "</div>"
      ],
      "text/plain": [
       "       customerid  salesorderid  orderdate\n",
       "0           11000         43793 2011-06-21\n",
       "1           11001         43767 2011-06-17\n",
       "2           11002         43736 2011-06-09\n",
       "3           11003         43701 2011-05-31\n",
       "4           11004         43810 2011-06-25\n",
       "...           ...           ...        ...\n",
       "19114       30114         46623 2012-05-30\n",
       "19115       30115         46935 2012-06-30\n",
       "19116       30116         51106 2013-05-30\n",
       "19117       30117         43865 2011-07-01\n",
       "19118       30118         47378 2012-07-31\n",
       "\n",
       "[19119 rows x 3 columns]"
      ]
     },
     "execution_count": 2,
     "metadata": {},
     "output_type": "execute_result"
    }
   ],
   "source": [
    "%%sql\n",
    "\n",
    "WITH base_table AS (\n",
    "    SELECT\n",
    "        soh.customerid,\n",
    "        (\n",
    "            SELECT soh2.salesorderid FROM sales.salesorderheader soh2 WHERE soh2.salesorderid = MIN(soh.salesorderid)\n",
    "        ) AS salesorderid\n",
    "\n",
    "    FROM sales.salesorderheader soh\n",
    "\n",
    "    GROUP BY 1\n",
    "    ORDER BY 1\n",
    ")\n",
    "\n",
    "SELECT bt.*, soh3.orderdate FROM base_table bt\n",
    "    LEFT JOIN sales.salesorderheader soh3 ON soh3.customerid = bt.customerid\n",
    "    WHERE soh3.salesorderid = bt.salesorderid\n"
   ]
  },
  {
   "cell_type": "code",
   "execution_count": null,
   "metadata": {},
   "outputs": [],
   "source": []
  }
 ],
 "metadata": {
  "interpreter": {
   "hash": "d4d1e4263499bec80672ea0156c357c1ee493ec2b1c70f0acce89fc37c4a6abe"
  },
  "kernelspec": {
   "display_name": "Python 3.9.7 64-bit ('base': conda)",
   "name": "python3"
  },
  "language_info": {
   "codemirror_mode": {
    "name": "ipython",
    "version": 3
   },
   "file_extension": ".py",
   "mimetype": "text/x-python",
   "name": "python",
   "nbconvert_exporter": "python",
   "pygments_lexer": "ipython3",
   "version": "3.9.7"
  }
 },
 "nbformat": 4,
 "nbformat_minor": 2
}
