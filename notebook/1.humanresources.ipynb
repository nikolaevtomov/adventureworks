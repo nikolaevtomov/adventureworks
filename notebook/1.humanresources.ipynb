{
 "cells": [
  {
   "cell_type": "markdown",
   "metadata": {},
   "source": [
    "## Experiment on humanresources scheme"
   ]
  },
  {
   "cell_type": "code",
   "execution_count": 1,
   "metadata": {},
   "outputs": [],
   "source": [
    "import matplotlib.pyplot as plt\n",
    "import numpy as np"
   ]
  },
  {
   "cell_type": "markdown",
   "metadata": {},
   "source": [
    "### Connect to the database"
   ]
  },
  {
   "cell_type": "code",
   "execution_count": 2,
   "metadata": {},
   "outputs": [
    {
     "name": "stdout",
     "output_type": "stream",
     "text": [
      "Connecting with connection string : postgresql://postgres:letmein@db:5432/Adventureworks\n",
      " * postgresql://postgres:***@db:5432/Adventureworks\n",
      "1 rows affected.\n",
      " * postgresql://postgres:***@db:5432/Adventureworks\n",
      "1 rows affected.\n",
      " * postgresql://postgres:***@db:5432/Adventureworks\n",
      "68 rows affected.\n"
     ]
    }
   ],
   "source": [
    "%run connection.ipynb"
   ]
  },
  {
   "cell_type": "markdown",
   "metadata": {},
   "source": [
    "### Create base materialized view"
   ]
  },
  {
   "cell_type": "code",
   "execution_count": 3,
   "metadata": {},
   "outputs": [
    {
     "name": "stdout",
     "output_type": "stream",
     "text": [
      " * postgresql://postgres:***@db:5432/Adventureworks\n",
      "Done.\n",
      "296 rows affected.\n"
     ]
    },
    {
     "data": {
      "text/html": [
       "<div>\n",
       "<style scoped>\n",
       "    .dataframe tbody tr th:only-of-type {\n",
       "        vertical-align: middle;\n",
       "    }\n",
       "\n",
       "    .dataframe tbody tr th {\n",
       "        vertical-align: top;\n",
       "    }\n",
       "\n",
       "    .dataframe thead th {\n",
       "        text-align: right;\n",
       "    }\n",
       "</style>\n",
       "<table border=\"1\" class=\"dataframe\">\n",
       "  <thead>\n",
       "    <tr style=\"text-align: right;\">\n",
       "      <th></th>\n",
       "    </tr>\n",
       "  </thead>\n",
       "  <tbody>\n",
       "  </tbody>\n",
       "</table>\n",
       "</div>"
      ],
      "text/plain": [
       "Empty DataFrame\n",
       "Columns: []\n",
       "Index: []"
      ]
     },
     "execution_count": 3,
     "metadata": {},
     "output_type": "execute_result"
    }
   ],
   "source": [
    "%%sql\n",
    "\n",
    "DROP MATERIALIZED VIEW IF EXISTS humanresources.deparment_name_and_groups;\n",
    "\n",
    "CREATE MATERIALIZED VIEW humanresources.deparment_name_and_groups AS (\n",
    "    SELECT\n",
    "        e.businessentityid,\n",
    "        e.jobtitle,\n",
    "        e.gender,\n",
    "        d.departmentid,\n",
    "        d.name AS deparment_name,\n",
    "        d.groupname AS deparment_group_name\n",
    "\n",
    "    FROM\n",
    "        humanresources.employee e\n",
    "        INNER JOIN humanresources.employeedepartmenthistory edh ON edh.businessentityid = e.businessentityid\n",
    "        INNER JOIN humanresources.department d ON d.departmentid = edh.departmentid\n",
    "\n",
    "    ORDER BY 1\n",
    ")\n"
   ]
  },
  {
   "cell_type": "markdown",
   "metadata": {},
   "source": [
    "### What are the main departmant group names?"
   ]
  },
  {
   "cell_type": "code",
   "execution_count": 4,
   "metadata": {},
   "outputs": [
    {
     "name": "stdout",
     "output_type": "stream",
     "text": [
      " * postgresql://postgres:***@db:5432/Adventureworks\n",
      "6 rows affected.\n"
     ]
    },
    {
     "data": {
      "text/html": [
       "<div>\n",
       "<style scoped>\n",
       "    .dataframe tbody tr th:only-of-type {\n",
       "        vertical-align: middle;\n",
       "    }\n",
       "\n",
       "    .dataframe tbody tr th {\n",
       "        vertical-align: top;\n",
       "    }\n",
       "\n",
       "    .dataframe thead th {\n",
       "        text-align: right;\n",
       "    }\n",
       "</style>\n",
       "<table border=\"1\" class=\"dataframe\">\n",
       "  <thead>\n",
       "    <tr style=\"text-align: right;\">\n",
       "      <th></th>\n",
       "      <th>deparment_group_name</th>\n",
       "      <th>row_number</th>\n",
       "    </tr>\n",
       "  </thead>\n",
       "  <tbody>\n",
       "    <tr>\n",
       "      <th>0</th>\n",
       "      <td>Executive General and Administration</td>\n",
       "      <td>1</td>\n",
       "    </tr>\n",
       "    <tr>\n",
       "      <th>1</th>\n",
       "      <td>Inventory Management</td>\n",
       "      <td>1</td>\n",
       "    </tr>\n",
       "    <tr>\n",
       "      <th>2</th>\n",
       "      <td>Manufacturing</td>\n",
       "      <td>1</td>\n",
       "    </tr>\n",
       "    <tr>\n",
       "      <th>3</th>\n",
       "      <td>Quality Assurance</td>\n",
       "      <td>1</td>\n",
       "    </tr>\n",
       "    <tr>\n",
       "      <th>4</th>\n",
       "      <td>Research and Development</td>\n",
       "      <td>1</td>\n",
       "    </tr>\n",
       "    <tr>\n",
       "      <th>5</th>\n",
       "      <td>Sales and Marketing</td>\n",
       "      <td>1</td>\n",
       "    </tr>\n",
       "  </tbody>\n",
       "</table>\n",
       "</div>"
      ],
      "text/plain": [
       "                   deparment_group_name  row_number\n",
       "0  Executive General and Administration           1\n",
       "1                  Inventory Management           1\n",
       "2                         Manufacturing           1\n",
       "3                     Quality Assurance           1\n",
       "4              Research and Development           1\n",
       "5                   Sales and Marketing           1"
      ]
     },
     "execution_count": 4,
     "metadata": {},
     "output_type": "execute_result"
    }
   ],
   "source": [
    "%%sql \n",
    "\n",
    "SELECT t.* FROM (\n",
    "    SELECT\n",
    "        bt.deparment_group_name,\n",
    "        row_number() OVER(partition BY bt.deparment_group_name ORDER BY bt.businessentityid) AS row_number\n",
    "    FROM humanresources.deparment_name_and_groups bt\n",
    ") t WHERE t.row_number = 1"
   ]
  },
  {
   "cell_type": "markdown",
   "metadata": {},
   "source": [
    "### What are the main departmant names?"
   ]
  },
  {
   "cell_type": "code",
   "execution_count": 5,
   "metadata": {},
   "outputs": [
    {
     "name": "stdout",
     "output_type": "stream",
     "text": [
      " * postgresql://postgres:***@db:5432/Adventureworks\n",
      "16 rows affected.\n"
     ]
    },
    {
     "data": {
      "text/html": [
       "<div>\n",
       "<style scoped>\n",
       "    .dataframe tbody tr th:only-of-type {\n",
       "        vertical-align: middle;\n",
       "    }\n",
       "\n",
       "    .dataframe tbody tr th {\n",
       "        vertical-align: top;\n",
       "    }\n",
       "\n",
       "    .dataframe thead th {\n",
       "        text-align: right;\n",
       "    }\n",
       "</style>\n",
       "<table border=\"1\" class=\"dataframe\">\n",
       "  <thead>\n",
       "    <tr style=\"text-align: right;\">\n",
       "      <th></th>\n",
       "      <th>deparment_name</th>\n",
       "      <th>row_number</th>\n",
       "    </tr>\n",
       "  </thead>\n",
       "  <tbody>\n",
       "    <tr>\n",
       "      <th>0</th>\n",
       "      <td>Document Control</td>\n",
       "      <td>1</td>\n",
       "    </tr>\n",
       "    <tr>\n",
       "      <th>1</th>\n",
       "      <td>Engineering</td>\n",
       "      <td>1</td>\n",
       "    </tr>\n",
       "    <tr>\n",
       "      <th>2</th>\n",
       "      <td>Executive</td>\n",
       "      <td>1</td>\n",
       "    </tr>\n",
       "    <tr>\n",
       "      <th>3</th>\n",
       "      <td>Facilities and Maintenance</td>\n",
       "      <td>1</td>\n",
       "    </tr>\n",
       "    <tr>\n",
       "      <th>4</th>\n",
       "      <td>Finance</td>\n",
       "      <td>1</td>\n",
       "    </tr>\n",
       "    <tr>\n",
       "      <th>5</th>\n",
       "      <td>Human Resources</td>\n",
       "      <td>1</td>\n",
       "    </tr>\n",
       "    <tr>\n",
       "      <th>6</th>\n",
       "      <td>Information Services</td>\n",
       "      <td>1</td>\n",
       "    </tr>\n",
       "    <tr>\n",
       "      <th>7</th>\n",
       "      <td>Marketing</td>\n",
       "      <td>1</td>\n",
       "    </tr>\n",
       "    <tr>\n",
       "      <th>8</th>\n",
       "      <td>Production</td>\n",
       "      <td>1</td>\n",
       "    </tr>\n",
       "    <tr>\n",
       "      <th>9</th>\n",
       "      <td>Production Control</td>\n",
       "      <td>1</td>\n",
       "    </tr>\n",
       "    <tr>\n",
       "      <th>10</th>\n",
       "      <td>Purchasing</td>\n",
       "      <td>1</td>\n",
       "    </tr>\n",
       "    <tr>\n",
       "      <th>11</th>\n",
       "      <td>Quality Assurance</td>\n",
       "      <td>1</td>\n",
       "    </tr>\n",
       "    <tr>\n",
       "      <th>12</th>\n",
       "      <td>Research and Development</td>\n",
       "      <td>1</td>\n",
       "    </tr>\n",
       "    <tr>\n",
       "      <th>13</th>\n",
       "      <td>Sales</td>\n",
       "      <td>1</td>\n",
       "    </tr>\n",
       "    <tr>\n",
       "      <th>14</th>\n",
       "      <td>Shipping and Receiving</td>\n",
       "      <td>1</td>\n",
       "    </tr>\n",
       "    <tr>\n",
       "      <th>15</th>\n",
       "      <td>Tool Design</td>\n",
       "      <td>1</td>\n",
       "    </tr>\n",
       "  </tbody>\n",
       "</table>\n",
       "</div>"
      ],
      "text/plain": [
       "                deparment_name  row_number\n",
       "0             Document Control           1\n",
       "1                  Engineering           1\n",
       "2                    Executive           1\n",
       "3   Facilities and Maintenance           1\n",
       "4                      Finance           1\n",
       "5              Human Resources           1\n",
       "6         Information Services           1\n",
       "7                    Marketing           1\n",
       "8                   Production           1\n",
       "9           Production Control           1\n",
       "10                  Purchasing           1\n",
       "11           Quality Assurance           1\n",
       "12    Research and Development           1\n",
       "13                       Sales           1\n",
       "14      Shipping and Receiving           1\n",
       "15                 Tool Design           1"
      ]
     },
     "execution_count": 5,
     "metadata": {},
     "output_type": "execute_result"
    }
   ],
   "source": [
    "%%sql \n",
    "\n",
    "SELECT t.* FROM (\n",
    "    SELECT\n",
    "        bt.deparment_name,\n",
    "        row_number() OVER(partition BY bt.deparment_name ORDER BY bt.businessentityid) AS row_number\n",
    "    FROM humanresources.deparment_name_and_groups bt\n",
    ") t WHERE t.row_number = 1"
   ]
  },
  {
   "cell_type": "markdown",
   "metadata": {},
   "source": [
    "### What is gender distribution in the company?"
   ]
  },
  {
   "cell_type": "code",
   "execution_count": 6,
   "metadata": {},
   "outputs": [
    {
     "name": "stdout",
     "output_type": "stream",
     "text": [
      " * postgresql://postgres:***@db:5432/Adventureworks\n",
      "2 rows affected.\n"
     ]
    },
    {
     "data": {
      "text/html": [
       "<div>\n",
       "<style scoped>\n",
       "    .dataframe tbody tr th:only-of-type {\n",
       "        vertical-align: middle;\n",
       "    }\n",
       "\n",
       "    .dataframe tbody tr th {\n",
       "        vertical-align: top;\n",
       "    }\n",
       "\n",
       "    .dataframe thead th {\n",
       "        text-align: right;\n",
       "    }\n",
       "</style>\n",
       "<table border=\"1\" class=\"dataframe\">\n",
       "  <thead>\n",
       "    <tr style=\"text-align: right;\">\n",
       "      <th></th>\n",
       "      <th>gender</th>\n",
       "      <th>count</th>\n",
       "      <th>row_number</th>\n",
       "    </tr>\n",
       "  </thead>\n",
       "  <tbody>\n",
       "    <tr>\n",
       "      <th>0</th>\n",
       "      <td>F</td>\n",
       "      <td>87</td>\n",
       "      <td>1</td>\n",
       "    </tr>\n",
       "    <tr>\n",
       "      <th>1</th>\n",
       "      <td>M</td>\n",
       "      <td>209</td>\n",
       "      <td>1</td>\n",
       "    </tr>\n",
       "  </tbody>\n",
       "</table>\n",
       "</div>"
      ],
      "text/plain": [
       "  gender  count  row_number\n",
       "0      F     87           1\n",
       "1      M    209           1"
      ]
     },
     "execution_count": 6,
     "metadata": {},
     "output_type": "execute_result"
    }
   ],
   "source": [
    "%%sql\n",
    "\n",
    "SELECT\n",
    "    dnag.gender,\n",
    "    COUNT(dnag.gender),\n",
    "    row_number() over(PARTITION BY COUNT(dnag.gender))\n",
    "FROM humanresources.deparment_name_and_groups dnag\n",
    "GROUP BY 1"
   ]
  },
  {
   "cell_type": "markdown",
   "metadata": {},
   "source": [
    "### What is the gender distribution by deparment groups?"
   ]
  },
  {
   "cell_type": "code",
   "execution_count": 7,
   "metadata": {},
   "outputs": [
    {
     "name": "stdout",
     "output_type": "stream",
     "text": [
      " * postgresql://postgres:***@db:5432/Adventureworks\n",
      "6 rows affected.\n",
      "Returning data to local variable gender_distribution_by_deparment_groups_df\n"
     ]
    }
   ],
   "source": [
    "%%sql gender_distribution_by_deparment_groups_df <<\n",
    "\n",
    "SELECT\n",
    "    dnag.deparment_group_name,\n",
    "    (\n",
    "        SELECT COUNT(dnag2.gender) FROM humanresources.deparment_name_and_groups dnag2\n",
    "        WHERE dnag2.gender = 'M' AND dnag2.deparment_group_name = dnag.deparment_group_name\n",
    "    ) AS male,\n",
    "    (\n",
    "        SELECT COUNT(dnag3.gender) FROM humanresources.deparment_name_and_groups dnag3\n",
    "        WHERE dnag3.gender = 'F' AND dnag3.deparment_group_name = dnag.deparment_group_name\n",
    "    ) AS female\n",
    "FROM humanresources.deparment_name_and_groups dnag\n",
    "GROUP BY 1,2"
   ]
  },
  {
   "cell_type": "code",
   "execution_count": 8,
   "metadata": {},
   "outputs": [
    {
     "data": {
      "text/html": [
       "<div>\n",
       "<style scoped>\n",
       "    .dataframe tbody tr th:only-of-type {\n",
       "        vertical-align: middle;\n",
       "    }\n",
       "\n",
       "    .dataframe tbody tr th {\n",
       "        vertical-align: top;\n",
       "    }\n",
       "\n",
       "    .dataframe thead th {\n",
       "        text-align: right;\n",
       "    }\n",
       "</style>\n",
       "<table border=\"1\" class=\"dataframe\">\n",
       "  <thead>\n",
       "    <tr style=\"text-align: right;\">\n",
       "      <th></th>\n",
       "      <th>deparment_group_name</th>\n",
       "      <th>male</th>\n",
       "      <th>female</th>\n",
       "    </tr>\n",
       "  </thead>\n",
       "  <tbody>\n",
       "    <tr>\n",
       "      <th>0</th>\n",
       "      <td>Executive General and Administration</td>\n",
       "      <td>21</td>\n",
       "      <td>15</td>\n",
       "    </tr>\n",
       "    <tr>\n",
       "      <th>1</th>\n",
       "      <td>Inventory Management</td>\n",
       "      <td>13</td>\n",
       "      <td>6</td>\n",
       "    </tr>\n",
       "    <tr>\n",
       "      <th>2</th>\n",
       "      <td>Manufacturing</td>\n",
       "      <td>140</td>\n",
       "      <td>46</td>\n",
       "    </tr>\n",
       "    <tr>\n",
       "      <th>3</th>\n",
       "      <td>Quality Assurance</td>\n",
       "      <td>10</td>\n",
       "      <td>2</td>\n",
       "    </tr>\n",
       "    <tr>\n",
       "      <th>4</th>\n",
       "      <td>Research and Development</td>\n",
       "      <td>9</td>\n",
       "      <td>6</td>\n",
       "    </tr>\n",
       "    <tr>\n",
       "      <th>5</th>\n",
       "      <td>Sales and Marketing</td>\n",
       "      <td>16</td>\n",
       "      <td>12</td>\n",
       "    </tr>\n",
       "  </tbody>\n",
       "</table>\n",
       "</div>"
      ],
      "text/plain": [
       "                   deparment_group_name  male  female\n",
       "0  Executive General and Administration    21      15\n",
       "1                  Inventory Management    13       6\n",
       "2                         Manufacturing   140      46\n",
       "3                     Quality Assurance    10       2\n",
       "4              Research and Development     9       6\n",
       "5                   Sales and Marketing    16      12"
      ]
     },
     "execution_count": 8,
     "metadata": {},
     "output_type": "execute_result"
    }
   ],
   "source": [
    "gender_distribution_by_deparment_groups_df"
   ]
  },
  {
   "cell_type": "code",
   "execution_count": 9,
   "metadata": {},
   "outputs": [
    {
     "name": "stderr",
     "output_type": "stream",
     "text": [
      "/tmp/ipykernel_84523/540400835.py:16: UserWarning: FixedFormatter should only be used together with FixedLocator\n",
      "  ax.set_xticklabels(labels)\n"
     ]
    },
    {
     "data": {
      "image/png": "[encoded data removed]",
      "text/plain": [
       "<Figure size 720x432 with 1 Axes>"
      ]
     },
     "metadata": {
      "needs_background": "light"
     },
     "output_type": "display_data"
    }
   ],
   "source": [
    "fig, ax = plt.subplots(figsize=(10, 6))\n",
    "\n",
    "male = gender_distribution_by_deparment_groups_df['male']\n",
    "female = gender_distribution_by_deparment_groups_df['female']\n",
    "\n",
    "labels = gender_distribution_by_deparment_groups_df['deparment_group_name']\n",
    "\n",
    "x = np.arange(len(labels))\n",
    "width = 0.4\n",
    "\n",
    "rects_male = ax.bar(x - width/2, male, width, label='Male')\n",
    "rects_female = ax.bar(x + width/2, female, width, label='Female')\n",
    "\n",
    "ax.set_ylabel('Total')\n",
    "ax.set_title('gender distribution by deparment groups')\n",
    "ax.set_xticklabels(labels)\n",
    "ax.set_xticks(x)\n",
    "ax.legend()\n",
    "\n",
    "ax.bar_label(rects_male, padding=2)\n",
    "ax.bar_label(rects_female, padding=2)\n",
    "\n",
    "fig.tight_layout()\n",
    "plt.xticks(rotation=90)\n",
    "\n",
    "plt.show()"
   ]
  },
  {
   "cell_type": "markdown",
   "metadata": {},
   "source": [
    "### How many employees work in each department?"
   ]
  },
  {
   "cell_type": "code",
   "execution_count": 10,
   "metadata": {},
   "outputs": [
    {
     "name": "stdout",
     "output_type": "stream",
     "text": [
      " * postgresql://postgres:***@db:5432/Adventureworks\n",
      "16 rows affected.\n",
      "Returning data to local variable number_of_employees_by_deparment_df\n"
     ]
    }
   ],
   "source": [
    "%%sql number_of_employees_by_deparment_df <<\n",
    "\n",
    "SELECT t.* FROM (\n",
    "    SELECT\n",
    "        bt.deparment_name,\n",
    "        COUNT(*) AS number_of_employees,\n",
    "        ROW_NUMBER() OVER(PARTITION BY bt.deparment_name ORDER BY COUNT(*) DESC) AS row_number\n",
    "    FROM humanresources.deparment_name_and_groups bt\n",
    "    GROUP BY 1\n",
    "    ORDER BY 2 DESC\n",
    ") t\n",
    "\n",
    "WHERE t.row_number = 1"
   ]
  },
  {
   "cell_type": "code",
   "execution_count": 11,
   "metadata": {},
   "outputs": [
    {
     "data": {
      "text/html": [
       "<div>\n",
       "<style scoped>\n",
       "    .dataframe tbody tr th:only-of-type {\n",
       "        vertical-align: middle;\n",
       "    }\n",
       "\n",
       "    .dataframe tbody tr th {\n",
       "        vertical-align: top;\n",
       "    }\n",
       "\n",
       "    .dataframe thead th {\n",
       "        text-align: right;\n",
       "    }\n",
       "</style>\n",
       "<table border=\"1\" class=\"dataframe\">\n",
       "  <thead>\n",
       "    <tr style=\"text-align: right;\">\n",
       "      <th></th>\n",
       "      <th>deparment_name</th>\n",
       "      <th>number_of_employees</th>\n",
       "      <th>row_number</th>\n",
       "    </tr>\n",
       "  </thead>\n",
       "  <tbody>\n",
       "    <tr>\n",
       "      <th>0</th>\n",
       "      <td>Production</td>\n",
       "      <td>180</td>\n",
       "      <td>1</td>\n",
       "    </tr>\n",
       "    <tr>\n",
       "      <th>1</th>\n",
       "      <td>Sales</td>\n",
       "      <td>18</td>\n",
       "      <td>1</td>\n",
       "    </tr>\n",
       "    <tr>\n",
       "      <th>2</th>\n",
       "      <td>Purchasing</td>\n",
       "      <td>13</td>\n",
       "      <td>1</td>\n",
       "    </tr>\n",
       "    <tr>\n",
       "      <th>3</th>\n",
       "      <td>Finance</td>\n",
       "      <td>11</td>\n",
       "      <td>1</td>\n",
       "    </tr>\n",
       "    <tr>\n",
       "      <th>4</th>\n",
       "      <td>Information Services</td>\n",
       "      <td>10</td>\n",
       "      <td>1</td>\n",
       "    </tr>\n",
       "    <tr>\n",
       "      <th>5</th>\n",
       "      <td>Marketing</td>\n",
       "      <td>10</td>\n",
       "      <td>1</td>\n",
       "    </tr>\n",
       "    <tr>\n",
       "      <th>6</th>\n",
       "      <td>Facilities and Maintenance</td>\n",
       "      <td>7</td>\n",
       "      <td>1</td>\n",
       "    </tr>\n",
       "    <tr>\n",
       "      <th>7</th>\n",
       "      <td>Quality Assurance</td>\n",
       "      <td>7</td>\n",
       "      <td>1</td>\n",
       "    </tr>\n",
       "    <tr>\n",
       "      <th>8</th>\n",
       "      <td>Engineering</td>\n",
       "      <td>7</td>\n",
       "      <td>1</td>\n",
       "    </tr>\n",
       "    <tr>\n",
       "      <th>9</th>\n",
       "      <td>Shipping and Receiving</td>\n",
       "      <td>6</td>\n",
       "      <td>1</td>\n",
       "    </tr>\n",
       "    <tr>\n",
       "      <th>10</th>\n",
       "      <td>Production Control</td>\n",
       "      <td>6</td>\n",
       "      <td>1</td>\n",
       "    </tr>\n",
       "    <tr>\n",
       "      <th>11</th>\n",
       "      <td>Human Resources</td>\n",
       "      <td>6</td>\n",
       "      <td>1</td>\n",
       "    </tr>\n",
       "    <tr>\n",
       "      <th>12</th>\n",
       "      <td>Document Control</td>\n",
       "      <td>5</td>\n",
       "      <td>1</td>\n",
       "    </tr>\n",
       "    <tr>\n",
       "      <th>13</th>\n",
       "      <td>Research and Development</td>\n",
       "      <td>4</td>\n",
       "      <td>1</td>\n",
       "    </tr>\n",
       "    <tr>\n",
       "      <th>14</th>\n",
       "      <td>Tool Design</td>\n",
       "      <td>4</td>\n",
       "      <td>1</td>\n",
       "    </tr>\n",
       "    <tr>\n",
       "      <th>15</th>\n",
       "      <td>Executive</td>\n",
       "      <td>2</td>\n",
       "      <td>1</td>\n",
       "    </tr>\n",
       "  </tbody>\n",
       "</table>\n",
       "</div>"
      ],
      "text/plain": [
       "                deparment_name  number_of_employees  row_number\n",
       "0                   Production                  180           1\n",
       "1                        Sales                   18           1\n",
       "2                   Purchasing                   13           1\n",
       "3                      Finance                   11           1\n",
       "4         Information Services                   10           1\n",
       "5                    Marketing                   10           1\n",
       "6   Facilities and Maintenance                    7           1\n",
       "7            Quality Assurance                    7           1\n",
       "8                  Engineering                    7           1\n",
       "9       Shipping and Receiving                    6           1\n",
       "10          Production Control                    6           1\n",
       "11             Human Resources                    6           1\n",
       "12            Document Control                    5           1\n",
       "13    Research and Development                    4           1\n",
       "14                 Tool Design                    4           1\n",
       "15                   Executive                    2           1"
      ]
     },
     "execution_count": 11,
     "metadata": {},
     "output_type": "execute_result"
    }
   ],
   "source": [
    "number_of_employees_by_deparment_df"
   ]
  },
  {
   "cell_type": "code",
   "execution_count": 12,
   "metadata": {},
   "outputs": [
    {
     "data": {
      "image/png": "[encoded data removed]",
      "text/plain": [
       "<Figure size 720x720 with 1 Axes>"
      ]
     },
     "metadata": {},
     "output_type": "display_data"
    }
   ],
   "source": [
    "data = number_of_employees_by_deparment_df['number_of_employees']\n",
    "labels = number_of_employees_by_deparment_df['deparment_name']\n",
    "\n",
    "fig, ax = plt.subplots(figsize=(10, 10))\n",
    "\n",
    "ax.pie(data, labels=labels, autopct='%1.1f%%', shadow=True, startangle=90)\n",
    "        \n",
    "ax.set_title('Number of employees for each department.')    \n",
    "ax.axis('equal')\n",
    "\n",
    "plt.show()"
   ]
  },
  {
   "cell_type": "markdown",
   "metadata": {},
   "source": [
    "### What are the salary distribution by deparment?"
   ]
  },
  {
   "cell_type": "code",
   "execution_count": 13,
   "metadata": {},
   "outputs": [
    {
     "name": "stdout",
     "output_type": "stream",
     "text": [
      " * postgresql://postgres:***@db:5432/Adventureworks\n",
      "16 rows affected.\n",
      "Returning data to local variable salary_min_max_avg_df\n"
     ]
    }
   ],
   "source": [
    "%%sql salary_min_max_avg_df <<\n",
    "\n",
    "WITH base_table AS (\n",
    "    SELECT\n",
    "        eph.businessentityid,\n",
    "        dnag.departmentid,\n",
    "        ROW_NUMBER() OVER(PARTITION BY dnag.departmentid ORDER BY dnag.departmentid) AS row_number,\n",
    "        eph.rate,\n",
    "        dnag.deparment_name\n",
    "    FROM humanresources.employeepayhistory eph\n",
    "        INNER JOIN (\n",
    "            SELECT dng.businessentityid, dng.departmentid, dng.deparment_name FROM humanresources.deparment_name_and_groups dng\n",
    "        ) dnag ON dnag.businessentityid = eph.businessentityid\n",
    "\n",
    "    GROUP BY 1,2,4,5\n",
    "    ORDER BY 2\n",
    ")\n",
    "\n",
    "SELECT\n",
    "    bt.departmentid,\n",
    "    bt.deparment_name,\n",
    "    AVG(bt.rate), \n",
    "    MAX(bt.rate), \n",
    "    MIN(bt.rate)\n",
    "FROM base_table bt\n",
    "GROUP BY 1,2\n",
    "ORDER BY 3\n"
   ]
  },
  {
   "cell_type": "code",
   "execution_count": 14,
   "metadata": {},
   "outputs": [
    {
     "data": {
      "text/html": [
       "<div>\n",
       "<style scoped>\n",
       "    .dataframe tbody tr th:only-of-type {\n",
       "        vertical-align: middle;\n",
       "    }\n",
       "\n",
       "    .dataframe tbody tr th {\n",
       "        vertical-align: top;\n",
       "    }\n",
       "\n",
       "    .dataframe thead th {\n",
       "        text-align: right;\n",
       "    }\n",
       "</style>\n",
       "<table border=\"1\" class=\"dataframe\">\n",
       "  <thead>\n",
       "    <tr style=\"text-align: right;\">\n",
       "      <th></th>\n",
       "      <th>departmentid</th>\n",
       "      <th>deparment_name</th>\n",
       "      <th>avg</th>\n",
       "      <th>max</th>\n",
       "      <th>min</th>\n",
       "    </tr>\n",
       "  </thead>\n",
       "  <tbody>\n",
       "    <tr>\n",
       "      <th>0</th>\n",
       "      <td>15</td>\n",
       "      <td>Shipping and Receiving</td>\n",
       "      <td>10.871800</td>\n",
       "      <td>19.2308</td>\n",
       "      <td>9.0000</td>\n",
       "    </tr>\n",
       "    <tr>\n",
       "      <th>1</th>\n",
       "      <td>14</td>\n",
       "      <td>Facilities and Maintenance</td>\n",
       "      <td>13.031600</td>\n",
       "      <td>24.0385</td>\n",
       "      <td>9.2500</td>\n",
       "    </tr>\n",
       "    <tr>\n",
       "      <th>2</th>\n",
       "      <td>7</td>\n",
       "      <td>Production</td>\n",
       "      <td>13.540932</td>\n",
       "      <td>84.1346</td>\n",
       "      <td>6.5000</td>\n",
       "    </tr>\n",
       "    <tr>\n",
       "      <th>3</th>\n",
       "      <td>12</td>\n",
       "      <td>Document Control</td>\n",
       "      <td>14.388460</td>\n",
       "      <td>17.7885</td>\n",
       "      <td>10.2500</td>\n",
       "    </tr>\n",
       "    <tr>\n",
       "      <th>4</th>\n",
       "      <td>8</td>\n",
       "      <td>Production Control</td>\n",
       "      <td>16.774612</td>\n",
       "      <td>24.5192</td>\n",
       "      <td>8.6200</td>\n",
       "    </tr>\n",
       "    <tr>\n",
       "      <th>5</th>\n",
       "      <td>13</td>\n",
       "      <td>Quality Assurance</td>\n",
       "      <td>17.238711</td>\n",
       "      <td>30.0000</td>\n",
       "      <td>9.8600</td>\n",
       "    </tr>\n",
       "    <tr>\n",
       "      <th>6</th>\n",
       "      <td>9</td>\n",
       "      <td>Human Resources</td>\n",
       "      <td>18.024817</td>\n",
       "      <td>27.1394</td>\n",
       "      <td>13.9423</td>\n",
       "    </tr>\n",
       "    <tr>\n",
       "      <th>7</th>\n",
       "      <td>4</td>\n",
       "      <td>Marketing</td>\n",
       "      <td>18.936429</td>\n",
       "      <td>37.5000</td>\n",
       "      <td>9.8600</td>\n",
       "    </tr>\n",
       "    <tr>\n",
       "      <th>8</th>\n",
       "      <td>5</td>\n",
       "      <td>Purchasing</td>\n",
       "      <td>20.148988</td>\n",
       "      <td>37.5000</td>\n",
       "      <td>9.8600</td>\n",
       "    </tr>\n",
       "    <tr>\n",
       "      <th>9</th>\n",
       "      <td>2</td>\n",
       "      <td>Tool Design</td>\n",
       "      <td>23.505400</td>\n",
       "      <td>29.8462</td>\n",
       "      <td>8.6200</td>\n",
       "    </tr>\n",
       "    <tr>\n",
       "      <th>10</th>\n",
       "      <td>10</td>\n",
       "      <td>Finance</td>\n",
       "      <td>29.774215</td>\n",
       "      <td>60.0962</td>\n",
       "      <td>13.4615</td>\n",
       "    </tr>\n",
       "    <tr>\n",
       "      <th>11</th>\n",
       "      <td>3</td>\n",
       "      <td>Sales</td>\n",
       "      <td>29.971944</td>\n",
       "      <td>72.1154</td>\n",
       "      <td>23.0769</td>\n",
       "    </tr>\n",
       "    <tr>\n",
       "      <th>12</th>\n",
       "      <td>1</td>\n",
       "      <td>Engineering</td>\n",
       "      <td>33.672389</td>\n",
       "      <td>63.4615</td>\n",
       "      <td>8.6200</td>\n",
       "    </tr>\n",
       "    <tr>\n",
       "      <th>13</th>\n",
       "      <td>11</td>\n",
       "      <td>Information Services</td>\n",
       "      <td>34.158630</td>\n",
       "      <td>50.4808</td>\n",
       "      <td>27.4038</td>\n",
       "    </tr>\n",
       "    <tr>\n",
       "      <th>14</th>\n",
       "      <td>6</td>\n",
       "      <td>Research and Development</td>\n",
       "      <td>43.673100</td>\n",
       "      <td>50.4808</td>\n",
       "      <td>40.8654</td>\n",
       "    </tr>\n",
       "    <tr>\n",
       "      <th>15</th>\n",
       "      <td>16</td>\n",
       "      <td>Executive</td>\n",
       "      <td>68.303475</td>\n",
       "      <td>125.5000</td>\n",
       "      <td>39.0600</td>\n",
       "    </tr>\n",
       "  </tbody>\n",
       "</table>\n",
       "</div>"
      ],
      "text/plain": [
       "    departmentid              deparment_name        avg       max      min\n",
       "0             15      Shipping and Receiving  10.871800   19.2308   9.0000\n",
       "1             14  Facilities and Maintenance  13.031600   24.0385   9.2500\n",
       "2              7                  Production  13.540932   84.1346   6.5000\n",
       "3             12            Document Control  14.388460   17.7885  10.2500\n",
       "4              8          Production Control  16.774612   24.5192   8.6200\n",
       "5             13           Quality Assurance  17.238711   30.0000   9.8600\n",
       "6              9             Human Resources  18.024817   27.1394  13.9423\n",
       "7              4                   Marketing  18.936429   37.5000   9.8600\n",
       "8              5                  Purchasing  20.148988   37.5000   9.8600\n",
       "9              2                 Tool Design  23.505400   29.8462   8.6200\n",
       "10            10                     Finance  29.774215   60.0962  13.4615\n",
       "11             3                       Sales  29.971944   72.1154  23.0769\n",
       "12             1                 Engineering  33.672389   63.4615   8.6200\n",
       "13            11        Information Services  34.158630   50.4808  27.4038\n",
       "14             6    Research and Development  43.673100   50.4808  40.8654\n",
       "15            16                   Executive  68.303475  125.5000  39.0600"
      ]
     },
     "execution_count": 14,
     "metadata": {},
     "output_type": "execute_result"
    }
   ],
   "source": [
    "salary_min_max_avg_df"
   ]
  },
  {
   "cell_type": "code",
   "execution_count": 15,
   "metadata": {},
   "outputs": [
    {
     "name": "stderr",
     "output_type": "stream",
     "text": [
      "/tmp/ipykernel_84523/3683125410.py:17: UserWarning: FixedFormatter should only be used together with FixedLocator\n",
      "  ax.set_xticklabels(labels)\n"
     ]
    },
    {
     "data": {
      "image/png": "[encoded data removed]",
      "text/plain": [
       "<Figure size 936x576 with 1 Axes>"
      ]
     },
     "metadata": {
      "needs_background": "light"
     },
     "output_type": "display_data"
    }
   ],
   "source": [
    "fig, ax = plt.subplots(figsize=(13, 8))\n",
    "\n",
    "avg = salary_min_max_avg_df['avg']\n",
    "max = salary_min_max_avg_df['max']\n",
    "min = salary_min_max_avg_df['min']\n",
    "labels = salary_min_max_avg_df['deparment_name']\n",
    "\n",
    "x = np.arange(len(labels))\n",
    "width = 0.2\n",
    "\n",
    "rects_min = ax.bar(x - width, min, width, label='min')\n",
    "rects_avg = ax.bar(x, avg, width, label='avg')\n",
    "rects_max = ax.bar(x + width, max, width, label='max')\n",
    "\n",
    "ax.set_ylabel('Salary')\n",
    "ax.set_title('Salary distribution by deparment')\n",
    "ax.set_xticklabels(labels)\n",
    "ax.set_xticks(x)\n",
    "ax.legend()\n",
    "\n",
    "ax.bar_label(rects_min, padding=4)\n",
    "ax.bar_label(rects_avg, padding=4)\n",
    "ax.bar_label(rects_max, padding=4)\n",
    "\n",
    "fig.tight_layout()\n",
    "plt.xticks(rotation=90)\n",
    "\n",
    "plt.show()"
   ]
  }
 ],
 "metadata": {
  "interpreter": {
   "hash": "d4d1e4263499bec80672ea0156c357c1ee493ec2b1c70f0acce89fc37c4a6abe"
  },
  "kernelspec": {
   "display_name": "Python 3.9.7 64-bit ('base': conda)",
   "name": "python3"
  },
  "language_info": {
   "codemirror_mode": {
    "name": "ipython",
    "version": 3
   },
   "file_extension": ".py",
   "mimetype": "text/x-python",
   "name": "python",
   "nbconvert_exporter": "python",
   "pygments_lexer": "ipython3",
   "version": "3.9.7"
  }
 },
 "nbformat": 4,
 "nbformat_minor": 2
}
