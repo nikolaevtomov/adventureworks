{
 "cells": [
  {
   "cell_type": "markdown",
   "metadata": {},
   "source": [
    "## Experiment on person scheme"
   ]
  },
  {
   "cell_type": "code",
   "execution_count": 1,
   "metadata": {},
   "outputs": [],
   "source": [
    "import pandas as pd\n",
    "import numpy as np\n",
    "import matplotlib.pyplot as plt\n",
    "import seaborn as sns\n",
    "import xml.etree.ElementTree as et\n",
    "from sklearn.preprocessing import OneHotEncoder\n",
    "from sklearn.decomposition import PCA\n",
    "from sklearn.cluster import KMeans\n",
    "\n",
    "sns.set()"
   ]
  },
  {
   "cell_type": "markdown",
   "metadata": {},
   "source": [
    "### Connect to the database"
   ]
  },
  {
   "cell_type": "code",
   "execution_count": 2,
   "metadata": {},
   "outputs": [
    {
     "name": "stdout",
     "output_type": "stream",
     "text": [
      "Connecting with connection string : postgresql://postgres:letmein@db:5432/Adventureworks\n",
      " * postgresql://postgres:***@db:5432/Adventureworks\n",
      "1 rows affected.\n",
      " * postgresql://postgres:***@db:5432/Adventureworks\n",
      "1 rows affected.\n",
      " * postgresql://postgres:***@db:5432/Adventureworks\n",
      "68 rows affected.\n"
     ]
    }
   ],
   "source": [
    "%run connection.ipynb"
   ]
  },
  {
   "cell_type": "markdown",
   "metadata": {},
   "source": [
    "### Customer segmentation"
   ]
  },
  {
   "cell_type": "code",
   "execution_count": 3,
   "metadata": {},
   "outputs": [
    {
     "name": "stdout",
     "output_type": "stream",
     "text": [
      " * postgresql://postgres:***@db:5432/Adventureworks\n",
      "18484 rows affected.\n",
      "Returning data to local variable demographics_df\n"
     ]
    }
   ],
   "source": [
    "%%sql demographics_df <<\n",
    "\n",
    "SELECT\n",
    "    pn.businessentityid,\n",
    "    (pn.firstname || ' ' || pn.lastname) AS name,\n",
    "    pn.demographics\n",
    "FROM person.person pn\n",
    "WHERE pn.persontype = 'IN'"
   ]
  },
  {
   "cell_type": "code",
   "execution_count": 4,
   "metadata": {},
   "outputs": [],
   "source": [
    "def expand_demographics(item):\n",
    "    ns = '{http://schemas.microsoft.com/sqlserver/2004/07/adventure-works/IndividualSurvey}'\n",
    "    xmlstring = item['demographics']\n",
    "    tree = et.ElementTree(et.fromstring(xmlstring))\n",
    "    root = tree.getroot()\n",
    "\n",
    "    for element in root:\n",
    "        item[element.tag.replace(ns, '')] = element.text\n",
    "\n",
    "    return item"
   ]
  },
  {
   "cell_type": "code",
   "execution_count": 5,
   "metadata": {},
   "outputs": [],
   "source": [
    "demographics_df = demographics_df.apply(expand_demographics, axis=1)"
   ]
  },
  {
   "cell_type": "code",
   "execution_count": 6,
   "metadata": {},
   "outputs": [
    {
     "data": {
      "text/html": [
       "<div>\n",
       "<style scoped>\n",
       "    .dataframe tbody tr th:only-of-type {\n",
       "        vertical-align: middle;\n",
       "    }\n",
       "\n",
       "    .dataframe tbody tr th {\n",
       "        vertical-align: top;\n",
       "    }\n",
       "\n",
       "    .dataframe thead th {\n",
       "        text-align: right;\n",
       "    }\n",
       "</style>\n",
       "<table border=\"1\" class=\"dataframe\">\n",
       "  <thead>\n",
       "    <tr style=\"text-align: right;\">\n",
       "      <th></th>\n",
       "      <th>businessentityid</th>\n",
       "      <th>name</th>\n",
       "      <th>demographics</th>\n",
       "      <th>TotalPurchaseYTD</th>\n",
       "      <th>DateFirstPurchase</th>\n",
       "      <th>BirthDate</th>\n",
       "      <th>MaritalStatus</th>\n",
       "      <th>YearlyIncome</th>\n",
       "      <th>Gender</th>\n",
       "      <th>TotalChildren</th>\n",
       "      <th>NumberChildrenAtHome</th>\n",
       "      <th>Education</th>\n",
       "      <th>Occupation</th>\n",
       "      <th>HomeOwnerFlag</th>\n",
       "      <th>NumberCarsOwned</th>\n",
       "      <th>CommuteDistance</th>\n",
       "    </tr>\n",
       "  </thead>\n",
       "  <tbody>\n",
       "    <tr>\n",
       "      <th>0</th>\n",
       "      <td>1699</td>\n",
       "      <td>David Robinett</td>\n",
       "      <td>&lt;IndividualSurvey xmlns=\"http://schemas.micros...</td>\n",
       "      <td>-16.01</td>\n",
       "      <td>2003-09-01Z</td>\n",
       "      <td>1961-02-23Z</td>\n",
       "      <td>M</td>\n",
       "      <td>25001-50000</td>\n",
       "      <td>M</td>\n",
       "      <td>4</td>\n",
       "      <td>0</td>\n",
       "      <td>Graduate Degree</td>\n",
       "      <td>Clerical</td>\n",
       "      <td>1</td>\n",
       "      <td>0</td>\n",
       "      <td>0-1 Miles</td>\n",
       "    </tr>\n",
       "    <tr>\n",
       "      <th>1</th>\n",
       "      <td>1700</td>\n",
       "      <td>Rebecca Robinson</td>\n",
       "      <td>&lt;IndividualSurvey xmlns=\"http://schemas.micros...</td>\n",
       "      <td>-4</td>\n",
       "      <td>2004-06-05Z</td>\n",
       "      <td>1965-06-11Z</td>\n",
       "      <td>M</td>\n",
       "      <td>50001-75000</td>\n",
       "      <td>F</td>\n",
       "      <td>3</td>\n",
       "      <td>3</td>\n",
       "      <td>Bachelors</td>\n",
       "      <td>Professional</td>\n",
       "      <td>1</td>\n",
       "      <td>1</td>\n",
       "      <td>5-10 Miles</td>\n",
       "    </tr>\n",
       "    <tr>\n",
       "      <th>2</th>\n",
       "      <td>1701</td>\n",
       "      <td>Dorothy Robinson</td>\n",
       "      <td>&lt;IndividualSurvey xmlns=\"http://schemas.micros...</td>\n",
       "      <td>4730.04</td>\n",
       "      <td>2002-04-07Z</td>\n",
       "      <td>1954-09-23Z</td>\n",
       "      <td>S</td>\n",
       "      <td>75001-100000</td>\n",
       "      <td>M</td>\n",
       "      <td>2</td>\n",
       "      <td>0</td>\n",
       "      <td>Partial College</td>\n",
       "      <td>Skilled Manual</td>\n",
       "      <td>0</td>\n",
       "      <td>2</td>\n",
       "      <td>1-2 Miles</td>\n",
       "    </tr>\n",
       "    <tr>\n",
       "      <th>3</th>\n",
       "      <td>1702</td>\n",
       "      <td>Carol Ann Rockne</td>\n",
       "      <td>&lt;IndividualSurvey xmlns=\"http://schemas.micros...</td>\n",
       "      <td>2435.4018</td>\n",
       "      <td>2001-10-27Z</td>\n",
       "      <td>1943-07-15Z</td>\n",
       "      <td>M</td>\n",
       "      <td>25001-50000</td>\n",
       "      <td>M</td>\n",
       "      <td>1</td>\n",
       "      <td>0</td>\n",
       "      <td>Bachelors</td>\n",
       "      <td>Clerical</td>\n",
       "      <td>1</td>\n",
       "      <td>0</td>\n",
       "      <td>0-1 Miles</td>\n",
       "    </tr>\n",
       "    <tr>\n",
       "      <th>4</th>\n",
       "      <td>1703</td>\n",
       "      <td>Scott Rodgers</td>\n",
       "      <td>&lt;IndividualSurvey xmlns=\"http://schemas.micros...</td>\n",
       "      <td>1647</td>\n",
       "      <td>2002-04-18Z</td>\n",
       "      <td>1968-05-15Z</td>\n",
       "      <td>M</td>\n",
       "      <td>50001-75000</td>\n",
       "      <td>M</td>\n",
       "      <td>2</td>\n",
       "      <td>2</td>\n",
       "      <td>Bachelors</td>\n",
       "      <td>Professional</td>\n",
       "      <td>1</td>\n",
       "      <td>1</td>\n",
       "      <td>2-5 Miles</td>\n",
       "    </tr>\n",
       "  </tbody>\n",
       "</table>\n",
       "</div>"
      ],
      "text/plain": [
       "   businessentityid              name  \\\n",
       "0              1699    David Robinett   \n",
       "1              1700  Rebecca Robinson   \n",
       "2              1701  Dorothy Robinson   \n",
       "3              1702  Carol Ann Rockne   \n",
       "4              1703     Scott Rodgers   \n",
       "\n",
       "                                        demographics TotalPurchaseYTD  \\\n",
       "0  <IndividualSurvey xmlns=\"http://schemas.micros...           -16.01   \n",
       "1  <IndividualSurvey xmlns=\"http://schemas.micros...               -4   \n",
       "2  <IndividualSurvey xmlns=\"http://schemas.micros...          4730.04   \n",
       "3  <IndividualSurvey xmlns=\"http://schemas.micros...        2435.4018   \n",
       "4  <IndividualSurvey xmlns=\"http://schemas.micros...             1647   \n",
       "\n",
       "  DateFirstPurchase    BirthDate MaritalStatus  YearlyIncome Gender  \\\n",
       "0       2003-09-01Z  1961-02-23Z             M   25001-50000      M   \n",
       "1       2004-06-05Z  1965-06-11Z             M   50001-75000      F   \n",
       "2       2002-04-07Z  1954-09-23Z             S  75001-100000      M   \n",
       "3       2001-10-27Z  1943-07-15Z             M   25001-50000      M   \n",
       "4       2002-04-18Z  1968-05-15Z             M   50001-75000      M   \n",
       "\n",
       "  TotalChildren NumberChildrenAtHome        Education      Occupation  \\\n",
       "0             4                    0  Graduate Degree        Clerical   \n",
       "1             3                    3       Bachelors     Professional   \n",
       "2             2                    0  Partial College  Skilled Manual   \n",
       "3             1                    0       Bachelors         Clerical   \n",
       "4             2                    2       Bachelors     Professional   \n",
       "\n",
       "  HomeOwnerFlag NumberCarsOwned CommuteDistance  \n",
       "0             1               0       0-1 Miles  \n",
       "1             1               1      5-10 Miles  \n",
       "2             0               2       1-2 Miles  \n",
       "3             1               0       0-1 Miles  \n",
       "4             1               1       2-5 Miles  "
      ]
     },
     "execution_count": 6,
     "metadata": {},
     "output_type": "execute_result"
    }
   ],
   "source": [
    "demographics_df.head()"
   ]
  },
  {
   "cell_type": "code",
   "execution_count": 7,
   "metadata": {},
   "outputs": [],
   "source": [
    "df = demographics_df[[\n",
    "    # 'MaritalStatus',\n",
    "    'YearlyIncome',\n",
    "    # 'Gender',\n",
    "    # 'TotalChildren',\n",
    "    # 'NumberChildrenAtHome',\n",
    "    'Education',\n",
    "    'Occupation',\n",
    "    'HomeOwnerFlag',\n",
    "    # 'NumberCarsOwned',\n",
    "    # 'CommuteDistance'\n",
    "]]\n"
   ]
  },
  {
   "cell_type": "code",
   "execution_count": 8,
   "metadata": {},
   "outputs": [
    {
     "data": {
      "text/html": [
       "<div>\n",
       "<style scoped>\n",
       "    .dataframe tbody tr th:only-of-type {\n",
       "        vertical-align: middle;\n",
       "    }\n",
       "\n",
       "    .dataframe tbody tr th {\n",
       "        vertical-align: top;\n",
       "    }\n",
       "\n",
       "    .dataframe thead th {\n",
       "        text-align: right;\n",
       "    }\n",
       "</style>\n",
       "<table border=\"1\" class=\"dataframe\">\n",
       "  <thead>\n",
       "    <tr style=\"text-align: right;\">\n",
       "      <th></th>\n",
       "      <th>YearlyIncome</th>\n",
       "      <th>Education</th>\n",
       "      <th>Occupation</th>\n",
       "      <th>HomeOwnerFlag</th>\n",
       "    </tr>\n",
       "  </thead>\n",
       "  <tbody>\n",
       "    <tr>\n",
       "      <th>0</th>\n",
       "      <td>25001-50000</td>\n",
       "      <td>Graduate Degree</td>\n",
       "      <td>Clerical</td>\n",
       "      <td>1</td>\n",
       "    </tr>\n",
       "    <tr>\n",
       "      <th>1</th>\n",
       "      <td>50001-75000</td>\n",
       "      <td>Bachelors</td>\n",
       "      <td>Professional</td>\n",
       "      <td>1</td>\n",
       "    </tr>\n",
       "    <tr>\n",
       "      <th>2</th>\n",
       "      <td>75001-100000</td>\n",
       "      <td>Partial College</td>\n",
       "      <td>Skilled Manual</td>\n",
       "      <td>0</td>\n",
       "    </tr>\n",
       "    <tr>\n",
       "      <th>3</th>\n",
       "      <td>25001-50000</td>\n",
       "      <td>Bachelors</td>\n",
       "      <td>Clerical</td>\n",
       "      <td>1</td>\n",
       "    </tr>\n",
       "    <tr>\n",
       "      <th>4</th>\n",
       "      <td>50001-75000</td>\n",
       "      <td>Bachelors</td>\n",
       "      <td>Professional</td>\n",
       "      <td>1</td>\n",
       "    </tr>\n",
       "  </tbody>\n",
       "</table>\n",
       "</div>"
      ],
      "text/plain": [
       "   YearlyIncome        Education      Occupation HomeOwnerFlag\n",
       "0   25001-50000  Graduate Degree        Clerical             1\n",
       "1   50001-75000       Bachelors     Professional             1\n",
       "2  75001-100000  Partial College  Skilled Manual             0\n",
       "3   25001-50000       Bachelors         Clerical             1\n",
       "4   50001-75000       Bachelors     Professional             1"
      ]
     },
     "execution_count": 8,
     "metadata": {},
     "output_type": "execute_result"
    }
   ],
   "source": [
    "df.head()"
   ]
  },
  {
   "cell_type": "markdown",
   "metadata": {},
   "source": [
    "### Encode categorical features as a one-hot numeric array (OneHotEncoder)."
   ]
  },
  {
   "cell_type": "code",
   "execution_count": 9,
   "metadata": {},
   "outputs": [],
   "source": [
    "X = df.select_dtypes(include=[object])"
   ]
  },
  {
   "cell_type": "code",
   "execution_count": 10,
   "metadata": {},
   "outputs": [
    {
     "data": {
      "text/html": [
       "<div>\n",
       "<style scoped>\n",
       "    .dataframe tbody tr th:only-of-type {\n",
       "        vertical-align: middle;\n",
       "    }\n",
       "\n",
       "    .dataframe tbody tr th {\n",
       "        vertical-align: top;\n",
       "    }\n",
       "\n",
       "    .dataframe thead th {\n",
       "        text-align: right;\n",
       "    }\n",
       "</style>\n",
       "<table border=\"1\" class=\"dataframe\">\n",
       "  <thead>\n",
       "    <tr style=\"text-align: right;\">\n",
       "      <th></th>\n",
       "      <th>YearlyIncome</th>\n",
       "      <th>Education</th>\n",
       "      <th>Occupation</th>\n",
       "      <th>HomeOwnerFlag</th>\n",
       "    </tr>\n",
       "  </thead>\n",
       "  <tbody>\n",
       "    <tr>\n",
       "      <th>0</th>\n",
       "      <td>25001-50000</td>\n",
       "      <td>Graduate Degree</td>\n",
       "      <td>Clerical</td>\n",
       "      <td>1</td>\n",
       "    </tr>\n",
       "    <tr>\n",
       "      <th>1</th>\n",
       "      <td>50001-75000</td>\n",
       "      <td>Bachelors</td>\n",
       "      <td>Professional</td>\n",
       "      <td>1</td>\n",
       "    </tr>\n",
       "    <tr>\n",
       "      <th>2</th>\n",
       "      <td>75001-100000</td>\n",
       "      <td>Partial College</td>\n",
       "      <td>Skilled Manual</td>\n",
       "      <td>0</td>\n",
       "    </tr>\n",
       "    <tr>\n",
       "      <th>3</th>\n",
       "      <td>25001-50000</td>\n",
       "      <td>Bachelors</td>\n",
       "      <td>Clerical</td>\n",
       "      <td>1</td>\n",
       "    </tr>\n",
       "    <tr>\n",
       "      <th>4</th>\n",
       "      <td>50001-75000</td>\n",
       "      <td>Bachelors</td>\n",
       "      <td>Professional</td>\n",
       "      <td>1</td>\n",
       "    </tr>\n",
       "  </tbody>\n",
       "</table>\n",
       "</div>"
      ],
      "text/plain": [
       "   YearlyIncome        Education      Occupation HomeOwnerFlag\n",
       "0   25001-50000  Graduate Degree        Clerical             1\n",
       "1   50001-75000       Bachelors     Professional             1\n",
       "2  75001-100000  Partial College  Skilled Manual             0\n",
       "3   25001-50000       Bachelors         Clerical             1\n",
       "4   50001-75000       Bachelors     Professional             1"
      ]
     },
     "execution_count": 10,
     "metadata": {},
     "output_type": "execute_result"
    }
   ],
   "source": [
    "X.head()"
   ]
  },
  {
   "cell_type": "code",
   "execution_count": 11,
   "metadata": {},
   "outputs": [],
   "source": [
    "encoder = OneHotEncoder(handle_unknown='ignore')"
   ]
  },
  {
   "cell_type": "code",
   "execution_count": 12,
   "metadata": {},
   "outputs": [],
   "source": [
    "enc_df = pd.DataFrame(encoder.fit_transform(X).toarray(), columns=encoder.get_feature_names_out())"
   ]
  },
  {
   "cell_type": "code",
   "execution_count": 13,
   "metadata": {},
   "outputs": [
    {
     "data": {
      "text/html": [
       "<div>\n",
       "<style scoped>\n",
       "    .dataframe tbody tr th:only-of-type {\n",
       "        vertical-align: middle;\n",
       "    }\n",
       "\n",
       "    .dataframe tbody tr th {\n",
       "        vertical-align: top;\n",
       "    }\n",
       "\n",
       "    .dataframe thead th {\n",
       "        text-align: right;\n",
       "    }\n",
       "</style>\n",
       "<table border=\"1\" class=\"dataframe\">\n",
       "  <thead>\n",
       "    <tr style=\"text-align: right;\">\n",
       "      <th></th>\n",
       "      <th>YearlyIncome_0-25000</th>\n",
       "      <th>YearlyIncome_25001-50000</th>\n",
       "      <th>YearlyIncome_50001-75000</th>\n",
       "      <th>YearlyIncome_75001-100000</th>\n",
       "      <th>YearlyIncome_greater than 100000</th>\n",
       "      <th>Education_Bachelors</th>\n",
       "      <th>Education_Graduate Degree</th>\n",
       "      <th>Education_High School</th>\n",
       "      <th>Education_Partial College</th>\n",
       "      <th>Education_Partial High School</th>\n",
       "      <th>Occupation_Clerical</th>\n",
       "      <th>Occupation_Management</th>\n",
       "      <th>Occupation_Manual</th>\n",
       "      <th>Occupation_Professional</th>\n",
       "      <th>Occupation_Skilled Manual</th>\n",
       "      <th>HomeOwnerFlag_0</th>\n",
       "      <th>HomeOwnerFlag_1</th>\n",
       "    </tr>\n",
       "  </thead>\n",
       "  <tbody>\n",
       "    <tr>\n",
       "      <th>0</th>\n",
       "      <td>0</td>\n",
       "      <td>1</td>\n",
       "      <td>0</td>\n",
       "      <td>0</td>\n",
       "      <td>0</td>\n",
       "      <td>0</td>\n",
       "      <td>1</td>\n",
       "      <td>0</td>\n",
       "      <td>0</td>\n",
       "      <td>0</td>\n",
       "      <td>1</td>\n",
       "      <td>0</td>\n",
       "      <td>0</td>\n",
       "      <td>0</td>\n",
       "      <td>0</td>\n",
       "      <td>0</td>\n",
       "      <td>1</td>\n",
       "    </tr>\n",
       "    <tr>\n",
       "      <th>1</th>\n",
       "      <td>0</td>\n",
       "      <td>0</td>\n",
       "      <td>1</td>\n",
       "      <td>0</td>\n",
       "      <td>0</td>\n",
       "      <td>1</td>\n",
       "      <td>0</td>\n",
       "      <td>0</td>\n",
       "      <td>0</td>\n",
       "      <td>0</td>\n",
       "      <td>0</td>\n",
       "      <td>0</td>\n",
       "      <td>0</td>\n",
       "      <td>1</td>\n",
       "      <td>0</td>\n",
       "      <td>0</td>\n",
       "      <td>1</td>\n",
       "    </tr>\n",
       "    <tr>\n",
       "      <th>2</th>\n",
       "      <td>0</td>\n",
       "      <td>0</td>\n",
       "      <td>0</td>\n",
       "      <td>1</td>\n",
       "      <td>0</td>\n",
       "      <td>0</td>\n",
       "      <td>0</td>\n",
       "      <td>0</td>\n",
       "      <td>1</td>\n",
       "      <td>0</td>\n",
       "      <td>0</td>\n",
       "      <td>0</td>\n",
       "      <td>0</td>\n",
       "      <td>0</td>\n",
       "      <td>1</td>\n",
       "      <td>1</td>\n",
       "      <td>0</td>\n",
       "    </tr>\n",
       "    <tr>\n",
       "      <th>3</th>\n",
       "      <td>0</td>\n",
       "      <td>1</td>\n",
       "      <td>0</td>\n",
       "      <td>0</td>\n",
       "      <td>0</td>\n",
       "      <td>1</td>\n",
       "      <td>0</td>\n",
       "      <td>0</td>\n",
       "      <td>0</td>\n",
       "      <td>0</td>\n",
       "      <td>1</td>\n",
       "      <td>0</td>\n",
       "      <td>0</td>\n",
       "      <td>0</td>\n",
       "      <td>0</td>\n",
       "      <td>0</td>\n",
       "      <td>1</td>\n",
       "    </tr>\n",
       "    <tr>\n",
       "      <th>4</th>\n",
       "      <td>0</td>\n",
       "      <td>0</td>\n",
       "      <td>1</td>\n",
       "      <td>0</td>\n",
       "      <td>0</td>\n",
       "      <td>1</td>\n",
       "      <td>0</td>\n",
       "      <td>0</td>\n",
       "      <td>0</td>\n",
       "      <td>0</td>\n",
       "      <td>0</td>\n",
       "      <td>0</td>\n",
       "      <td>0</td>\n",
       "      <td>1</td>\n",
       "      <td>0</td>\n",
       "      <td>0</td>\n",
       "      <td>1</td>\n",
       "    </tr>\n",
       "  </tbody>\n",
       "</table>\n",
       "</div>"
      ],
      "text/plain": [
       "   YearlyIncome_0-25000  YearlyIncome_25001-50000  YearlyIncome_50001-75000  \\\n",
       "0                     0                         1                         0   \n",
       "1                     0                         0                         1   \n",
       "2                     0                         0                         0   \n",
       "3                     0                         1                         0   \n",
       "4                     0                         0                         1   \n",
       "\n",
       "   YearlyIncome_75001-100000  YearlyIncome_greater than 100000  \\\n",
       "0                          0                                 0   \n",
       "1                          0                                 0   \n",
       "2                          1                                 0   \n",
       "3                          0                                 0   \n",
       "4                          0                                 0   \n",
       "\n",
       "   Education_Bachelors   Education_Graduate Degree  Education_High School  \\\n",
       "0                     0                          1                      0   \n",
       "1                     1                          0                      0   \n",
       "2                     0                          0                      0   \n",
       "3                     1                          0                      0   \n",
       "4                     1                          0                      0   \n",
       "\n",
       "   Education_Partial College  Education_Partial High School  \\\n",
       "0                          0                              0   \n",
       "1                          0                              0   \n",
       "2                          1                              0   \n",
       "3                          0                              0   \n",
       "4                          0                              0   \n",
       "\n",
       "   Occupation_Clerical  Occupation_Management  Occupation_Manual  \\\n",
       "0                    1                      0                  0   \n",
       "1                    0                      0                  0   \n",
       "2                    0                      0                  0   \n",
       "3                    1                      0                  0   \n",
       "4                    0                      0                  0   \n",
       "\n",
       "   Occupation_Professional  Occupation_Skilled Manual  HomeOwnerFlag_0  \\\n",
       "0                        0                          0                0   \n",
       "1                        1                          0                0   \n",
       "2                        0                          1                1   \n",
       "3                        0                          0                0   \n",
       "4                        1                          0                0   \n",
       "\n",
       "   HomeOwnerFlag_1  \n",
       "0                1  \n",
       "1                1  \n",
       "2                0  \n",
       "3                1  \n",
       "4                1  "
      ]
     },
     "execution_count": 13,
     "metadata": {},
     "output_type": "execute_result"
    }
   ],
   "source": [
    "enc_df.astype(int).head()"
   ]
  },
  {
   "cell_type": "code",
   "execution_count": 14,
   "metadata": {},
   "outputs": [
    {
     "data": {
      "text/plain": [
       "(18484, 17)"
      ]
     },
     "execution_count": 14,
     "metadata": {},
     "output_type": "execute_result"
    }
   ],
   "source": [
    "enc_df.shape"
   ]
  },
  {
   "cell_type": "markdown",
   "metadata": {},
   "source": [
    "### Reduce the dimensions using Principal Component Analysis (PCA)"
   ]
  },
  {
   "cell_type": "code",
   "execution_count": 15,
   "metadata": {},
   "outputs": [],
   "source": [
    "pca = PCA()"
   ]
  },
  {
   "cell_type": "code",
   "execution_count": 16,
   "metadata": {},
   "outputs": [],
   "source": [
    "scores_pca = pca.fit_transform(enc_df.astype(int))"
   ]
  },
  {
   "cell_type": "code",
   "execution_count": 35,
   "metadata": {},
   "outputs": [
    {
     "data": {
      "text/plain": [
       "array([[-0.11567623, -0.97685259, -0.20640564, ..., -0.11419961,\n",
       "        -0.11821345,  0.16027509],\n",
       "       [-0.96630334,  0.69711116, -0.23141539, ...,  0.00666641,\n",
       "        -0.03850391,  0.00158845],\n",
       "       [ 0.84199923,  0.23418072, -0.17060417, ..., -0.16186898,\n",
       "         0.11449726,  0.23663259],\n",
       "       ...,\n",
       "       [-0.8858326 ,  0.32326932, -0.32678242, ..., -0.3968457 ,\n",
       "         0.1610079 , -0.27294417],\n",
       "       [ 0.1078931 , -1.07830561, -0.01844522, ..., -0.20533729,\n",
       "         0.14803561,  0.01265077],\n",
       "       [ 0.39030464,  1.12586951, -0.58519998, ..., -0.0539495 ,\n",
       "        -0.09509661,  0.13994248]])"
      ]
     },
     "execution_count": 35,
     "metadata": {},
     "output_type": "execute_result"
    }
   ],
   "source": [
    "scores_pca"
   ]
  },
  {
   "cell_type": "code",
   "execution_count": 85,
   "metadata": {},
   "outputs": [
    {
     "data": {
      "text/plain": [
       "(18484, 12)"
      ]
     },
     "execution_count": 85,
     "metadata": {},
     "output_type": "execute_result"
    }
   ],
   "source": [
    "scores_pca.shape"
   ]
  },
  {
   "cell_type": "markdown",
   "metadata": {},
   "source": [
    "### Deciding how many features we’d like to keep based on the cumulative variance plot"
   ]
  },
  {
   "cell_type": "code",
   "execution_count": 17,
   "metadata": {},
   "outputs": [
    {
     "name": "stdout",
     "output_type": "stream",
     "text": [
      "Explained variation per principal component: [1.71016475e-01 1.50395631e-01 1.16366431e-01 1.11059316e-01\n",
      " 9.18987659e-02 7.84347326e-02 7.38027641e-02 6.69705871e-02\n",
      " 4.86800371e-02 3.26895853e-02 3.16822501e-02 2.00896143e-02\n",
      " 6.91380970e-03 8.65418066e-31 2.91530091e-31 9.52978135e-32\n",
      " 1.13086330e-32]\n"
     ]
    }
   ],
   "source": [
    "print('Explained variation per principal component: {}'.format(pca.explained_variance_ratio_))"
   ]
  },
  {
   "cell_type": "code",
   "execution_count": 18,
   "metadata": {},
   "outputs": [
    {
     "name": "stdout",
     "output_type": "stream",
     "text": [
      "Cumulative variance explained by 2 principal components: 100.00%\n"
     ]
    }
   ],
   "source": [
    "print('Cumulative variance explained by 2 principal components: {:.2%}'.format(np.sum(pca.explained_variance_ratio_)))"
   ]
  },
  {
   "cell_type": "code",
   "execution_count": 19,
   "metadata": {},
   "outputs": [
    {
     "data": {
      "text/plain": [
       "Text(0, 0.5, 'Cumulative Explained Variance')"
      ]
     },
     "execution_count": 19,
     "metadata": {},
     "output_type": "execute_result"
    },
    {
     "data": {
      "image/png": "[encoded data removed]",
      "text/plain": [
       "<Figure size 720x576 with 1 Axes>"
      ]
     },
     "metadata": {},
     "output_type": "display_data"
    }
   ],
   "source": [
    "plt.figure(figsize=(10,8))\n",
    "plt.plot(range(1, len(pca.explained_variance_ratio_) + 1), pca.explained_variance_ratio_.cumsum(), marker='o', linestyle='--')\n",
    "\n",
    "plt.title('Explained Variance by Component')\n",
    "plt.xlabel('Number of Components')\n",
    "plt.ylabel('Cumulative Explained Variance')"
   ]
  },
  {
   "cell_type": "markdown",
   "metadata": {},
   "source": [
    "### Performing PCA with the chosen number of components."
   ]
  },
  {
   "cell_type": "code",
   "execution_count": 20,
   "metadata": {},
   "outputs": [],
   "source": [
    "pca = PCA(n_components=12)"
   ]
  },
  {
   "cell_type": "code",
   "execution_count": 21,
   "metadata": {},
   "outputs": [],
   "source": [
    "scores_pca = pca.fit_transform(enc_df.astype(int))"
   ]
  },
  {
   "cell_type": "code",
   "execution_count": 22,
   "metadata": {},
   "outputs": [
    {
     "name": "stdout",
     "output_type": "stream",
     "text": [
      "Cumulative variance explained by 2 principal components: 99.31%\n"
     ]
    }
   ],
   "source": [
    "print('Cumulative variance explained by 2 principal components: {:.2%}'.format(np.sum(pca.explained_variance_ratio_)))"
   ]
  },
  {
   "cell_type": "markdown",
   "metadata": {},
   "source": [
    "### Finding optimal `n` value for KMeans "
   ]
  },
  {
   "cell_type": "code",
   "execution_count": 23,
   "metadata": {},
   "outputs": [
    {
     "data": {
      "image/png": "[encoded data removed]",
      "text/plain": [
       "<Figure size 720x576 with 1 Axes>"
      ]
     },
     "metadata": {},
     "output_type": "display_data"
    }
   ],
   "source": [
    "wcss = []\n",
    "\n",
    "plt.figure(figsize=(10,8))\n",
    "\n",
    "for i in range(1, 21):\n",
    "    kmeans=KMeans(n_clusters=i, init='k-means++', max_iter=300, n_init=20, random_state=42)\n",
    "    kmeans.fit(scores_pca)\n",
    "    wcss.append(kmeans.inertia_)\n",
    "    \n",
    "plt.plot(range(1, 21), wcss, marker='o', linestyle='--')\n",
    "plt.title('Elbow Method')\n",
    "plt.xlabel('Number of clusters')\n",
    "plt.ylabel('WCSS')\n",
    "plt.show()"
   ]
  },
  {
   "cell_type": "markdown",
   "metadata": {},
   "source": [
    "### Applying KMeans"
   ]
  },
  {
   "cell_type": "code",
   "execution_count": 24,
   "metadata": {},
   "outputs": [],
   "source": [
    "kmeans = KMeans(n_clusters=4)"
   ]
  },
  {
   "cell_type": "code",
   "execution_count": 25,
   "metadata": {},
   "outputs": [],
   "source": [
    "kmeans4 = kmeans.fit(scores_pca)"
   ]
  },
  {
   "cell_type": "code",
   "execution_count": 26,
   "metadata": {},
   "outputs": [
    {
     "data": {
      "text/plain": [
       "array([1, 2, 0, ..., 2, 1, 0], dtype=int32)"
      ]
     },
     "execution_count": 26,
     "metadata": {},
     "output_type": "execute_result"
    }
   ],
   "source": [
    "kmeans4.labels_"
   ]
  },
  {
   "cell_type": "code",
   "execution_count": 27,
   "metadata": {},
   "outputs": [],
   "source": [
    " demographics_df['score'] = pd.Series(kmeans4.labels_)"
   ]
  },
  {
   "cell_type": "code",
   "execution_count": 28,
   "metadata": {},
   "outputs": [
    {
     "data": {
      "text/html": [
       "<div>\n",
       "<style scoped>\n",
       "    .dataframe tbody tr th:only-of-type {\n",
       "        vertical-align: middle;\n",
       "    }\n",
       "\n",
       "    .dataframe tbody tr th {\n",
       "        vertical-align: top;\n",
       "    }\n",
       "\n",
       "    .dataframe thead th {\n",
       "        text-align: right;\n",
       "    }\n",
       "</style>\n",
       "<table border=\"1\" class=\"dataframe\">\n",
       "  <thead>\n",
       "    <tr style=\"text-align: right;\">\n",
       "      <th></th>\n",
       "      <th>businessentityid</th>\n",
       "      <th>name</th>\n",
       "      <th>demographics</th>\n",
       "      <th>TotalPurchaseYTD</th>\n",
       "      <th>DateFirstPurchase</th>\n",
       "      <th>BirthDate</th>\n",
       "      <th>MaritalStatus</th>\n",
       "      <th>YearlyIncome</th>\n",
       "      <th>Gender</th>\n",
       "      <th>TotalChildren</th>\n",
       "      <th>NumberChildrenAtHome</th>\n",
       "      <th>Education</th>\n",
       "      <th>Occupation</th>\n",
       "      <th>HomeOwnerFlag</th>\n",
       "      <th>NumberCarsOwned</th>\n",
       "      <th>CommuteDistance</th>\n",
       "      <th>score</th>\n",
       "    </tr>\n",
       "  </thead>\n",
       "  <tbody>\n",
       "    <tr>\n",
       "      <th>0</th>\n",
       "      <td>1699</td>\n",
       "      <td>David Robinett</td>\n",
       "      <td>&lt;IndividualSurvey xmlns=\"http://schemas.micros...</td>\n",
       "      <td>-16.01</td>\n",
       "      <td>2003-09-01Z</td>\n",
       "      <td>1961-02-23Z</td>\n",
       "      <td>M</td>\n",
       "      <td>25001-50000</td>\n",
       "      <td>M</td>\n",
       "      <td>4</td>\n",
       "      <td>0</td>\n",
       "      <td>Graduate Degree</td>\n",
       "      <td>Clerical</td>\n",
       "      <td>1</td>\n",
       "      <td>0</td>\n",
       "      <td>0-1 Miles</td>\n",
       "      <td>1</td>\n",
       "    </tr>\n",
       "    <tr>\n",
       "      <th>1</th>\n",
       "      <td>1700</td>\n",
       "      <td>Rebecca Robinson</td>\n",
       "      <td>&lt;IndividualSurvey xmlns=\"http://schemas.micros...</td>\n",
       "      <td>-4</td>\n",
       "      <td>2004-06-05Z</td>\n",
       "      <td>1965-06-11Z</td>\n",
       "      <td>M</td>\n",
       "      <td>50001-75000</td>\n",
       "      <td>F</td>\n",
       "      <td>3</td>\n",
       "      <td>3</td>\n",
       "      <td>Bachelors</td>\n",
       "      <td>Professional</td>\n",
       "      <td>1</td>\n",
       "      <td>1</td>\n",
       "      <td>5-10 Miles</td>\n",
       "      <td>2</td>\n",
       "    </tr>\n",
       "    <tr>\n",
       "      <th>2</th>\n",
       "      <td>1701</td>\n",
       "      <td>Dorothy Robinson</td>\n",
       "      <td>&lt;IndividualSurvey xmlns=\"http://schemas.micros...</td>\n",
       "      <td>4730.04</td>\n",
       "      <td>2002-04-07Z</td>\n",
       "      <td>1954-09-23Z</td>\n",
       "      <td>S</td>\n",
       "      <td>75001-100000</td>\n",
       "      <td>M</td>\n",
       "      <td>2</td>\n",
       "      <td>0</td>\n",
       "      <td>Partial College</td>\n",
       "      <td>Skilled Manual</td>\n",
       "      <td>0</td>\n",
       "      <td>2</td>\n",
       "      <td>1-2 Miles</td>\n",
       "      <td>0</td>\n",
       "    </tr>\n",
       "    <tr>\n",
       "      <th>3</th>\n",
       "      <td>1702</td>\n",
       "      <td>Carol Ann Rockne</td>\n",
       "      <td>&lt;IndividualSurvey xmlns=\"http://schemas.micros...</td>\n",
       "      <td>2435.4018</td>\n",
       "      <td>2001-10-27Z</td>\n",
       "      <td>1943-07-15Z</td>\n",
       "      <td>M</td>\n",
       "      <td>25001-50000</td>\n",
       "      <td>M</td>\n",
       "      <td>1</td>\n",
       "      <td>0</td>\n",
       "      <td>Bachelors</td>\n",
       "      <td>Clerical</td>\n",
       "      <td>1</td>\n",
       "      <td>0</td>\n",
       "      <td>0-1 Miles</td>\n",
       "      <td>1</td>\n",
       "    </tr>\n",
       "    <tr>\n",
       "      <th>4</th>\n",
       "      <td>1703</td>\n",
       "      <td>Scott Rodgers</td>\n",
       "      <td>&lt;IndividualSurvey xmlns=\"http://schemas.micros...</td>\n",
       "      <td>1647</td>\n",
       "      <td>2002-04-18Z</td>\n",
       "      <td>1968-05-15Z</td>\n",
       "      <td>M</td>\n",
       "      <td>50001-75000</td>\n",
       "      <td>M</td>\n",
       "      <td>2</td>\n",
       "      <td>2</td>\n",
       "      <td>Bachelors</td>\n",
       "      <td>Professional</td>\n",
       "      <td>1</td>\n",
       "      <td>1</td>\n",
       "      <td>2-5 Miles</td>\n",
       "      <td>2</td>\n",
       "    </tr>\n",
       "  </tbody>\n",
       "</table>\n",
       "</div>"
      ],
      "text/plain": [
       "   businessentityid              name  \\\n",
       "0              1699    David Robinett   \n",
       "1              1700  Rebecca Robinson   \n",
       "2              1701  Dorothy Robinson   \n",
       "3              1702  Carol Ann Rockne   \n",
       "4              1703     Scott Rodgers   \n",
       "\n",
       "                                        demographics TotalPurchaseYTD  \\\n",
       "0  <IndividualSurvey xmlns=\"http://schemas.micros...           -16.01   \n",
       "1  <IndividualSurvey xmlns=\"http://schemas.micros...               -4   \n",
       "2  <IndividualSurvey xmlns=\"http://schemas.micros...          4730.04   \n",
       "3  <IndividualSurvey xmlns=\"http://schemas.micros...        2435.4018   \n",
       "4  <IndividualSurvey xmlns=\"http://schemas.micros...             1647   \n",
       "\n",
       "  DateFirstPurchase    BirthDate MaritalStatus  YearlyIncome Gender  \\\n",
       "0       2003-09-01Z  1961-02-23Z             M   25001-50000      M   \n",
       "1       2004-06-05Z  1965-06-11Z             M   50001-75000      F   \n",
       "2       2002-04-07Z  1954-09-23Z             S  75001-100000      M   \n",
       "3       2001-10-27Z  1943-07-15Z             M   25001-50000      M   \n",
       "4       2002-04-18Z  1968-05-15Z             M   50001-75000      M   \n",
       "\n",
       "  TotalChildren NumberChildrenAtHome        Education      Occupation  \\\n",
       "0             4                    0  Graduate Degree        Clerical   \n",
       "1             3                    3       Bachelors     Professional   \n",
       "2             2                    0  Partial College  Skilled Manual   \n",
       "3             1                    0       Bachelors         Clerical   \n",
       "4             2                    2       Bachelors     Professional   \n",
       "\n",
       "  HomeOwnerFlag NumberCarsOwned CommuteDistance  score  \n",
       "0             1               0       0-1 Miles      1  \n",
       "1             1               1      5-10 Miles      2  \n",
       "2             0               2       1-2 Miles      0  \n",
       "3             1               0       0-1 Miles      1  \n",
       "4             1               1       2-5 Miles      2  "
      ]
     },
     "execution_count": 28,
     "metadata": {},
     "output_type": "execute_result"
    }
   ],
   "source": [
    "demographics_df.head()"
   ]
  },
  {
   "cell_type": "code",
   "execution_count": 84,
   "metadata": {},
   "outputs": [
    {
     "data": {
      "text/plain": [
       "Text(0, 0.5, 'y')"
      ]
     },
     "execution_count": 84,
     "metadata": {},
     "output_type": "execute_result"
    },
    {
     "data": {
      "image/png": "[encoded data removed]",
      "text/plain": [
       "<Figure size 720x576 with 1 Axes>"
      ]
     },
     "metadata": {},
     "output_type": "display_data"
    }
   ],
   "source": [
    "\n",
    "plt.figure(figsize=(10,8))\n",
    "\n",
    "sns.scatterplot(\n",
    "    x=demographics_df['YearlyIncome'],\n",
    "    y=demographics_df['Occupation'],\n",
    "    hue=demographics_df['score'],\n",
    "    marker=\"o\",\n",
    "    palette=['g', 'r', 'c', 'm']\n",
    ")\n",
    "\n",
    "# for (cx, cy) in kmeans4.cluster_centers_:\n",
    "#     plt.plot(cx, cy, color='black', marker='x', mew=2)\n",
    "\n",
    "plt.title('Four clusters of data')\n",
    "plt.xlabel('x')\n",
    "plt.ylabel('y')"
   ]
  }
 ],
 "metadata": {
  "interpreter": {
   "hash": "d4d1e4263499bec80672ea0156c357c1ee493ec2b1c70f0acce89fc37c4a6abe"
  },
  "kernelspec": {
   "display_name": "Python 3.9.7 64-bit ('base': conda)",
   "name": "python3"
  },
  "language_info": {
   "codemirror_mode": {
    "name": "ipython",
    "version": 3
   },
   "file_extension": ".py",
   "mimetype": "text/x-python",
   "name": "python",
   "nbconvert_exporter": "python",
   "pygments_lexer": "ipython3",
   "version": "3.9.7"
  },
  "orig_nbformat": 4
 },
 "nbformat": 4,
 "nbformat_minor": 2
}
